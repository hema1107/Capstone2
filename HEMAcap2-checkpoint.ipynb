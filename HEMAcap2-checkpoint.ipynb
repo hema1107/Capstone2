{
 "cells": [
  {
   "cell_type": "code",
   "execution_count": 1,
   "id": "cd051bca",
   "metadata": {},
   "outputs": [
    {
     "name": "stdout",
     "output_type": "stream",
     "text": [
      "************* Welcome to Measure your Body Weight Lab *************\n",
      "\n",
      "Choose BMI : \n",
      "1.severly underweight\n",
      "2.underweight\n",
      "3.Healthy\n",
      "4.overweight\n",
      "5.severly overweight\n",
      "6.enter valid details\n",
      "Enter your height in centimeters: 5.7\n",
      "Enter your weight in kg: 54\n",
      "your Body Mass Index is:  16620.498614958447\n",
      "you are severly overweight\n"
     ]
    }
   ],
   "source": [
    "#TO CALCULATE BODY WEIGHT\n",
    "def Height():\n",
    "    return centimeters\n",
    "def Weight():\n",
    "    return kg\n",
    "print(\"************* Welcome to Measure your Body Weight Lab *************\")\n",
    "print()\n",
    "print(\"Choose BMI : \")\n",
    "print(\"1.severly underweight\")\n",
    "print(\"2.underweight\")\n",
    "print(\"3.Healthy\")\n",
    "print(\"4.overweight\")\n",
    "print(\"5.severly overweight\")\n",
    "print(\"6.enter valid details\")\n",
    "Height=float(input(\"Enter your height in centimeters: \"))\n",
    "Weight=float(input(\"Enter your weight in kg: \"))\n",
    "Height=Height/100\n",
    "BMI=Weight/(Height*Height)\n",
    "print(\"your Body Mass Index is: \",BMI)\n",
    "if(BMI>0):\n",
    "    if(BMI<=16):\n",
    "        print(\"you are severly underweight\")\n",
    "    elif(BMI<=18.5):\n",
    "        print(\"you are underweight\")\n",
    "    elif(BMI<=25):\n",
    "        print(\"you are Healthy\")\n",
    "    elif(BMI<=30):\n",
    "        print(\"you are overweight\")\n",
    "    else:print(\"you are severly overweight\")\n",
    "else:(\"enter valid details\")\n",
    "        "
   ]
  },
  {
   "cell_type": "code",
   "execution_count": null,
   "id": "af4f0397",
   "metadata": {},
   "outputs": [],
   "source": []
  }
 ],
 "metadata": {
  "kernelspec": {
   "display_name": "Python 3 (ipykernel)",
   "language": "python",
   "name": "python3"
  },
  "language_info": {
   "codemirror_mode": {
    "name": "ipython",
    "version": 3
   },
   "file_extension": ".py",
   "mimetype": "text/x-python",
   "name": "python",
   "nbconvert_exporter": "python",
   "pygments_lexer": "ipython3",
   "version": "3.9.7"
  }
 },
 "nbformat": 4,
 "nbformat_minor": 5
}
